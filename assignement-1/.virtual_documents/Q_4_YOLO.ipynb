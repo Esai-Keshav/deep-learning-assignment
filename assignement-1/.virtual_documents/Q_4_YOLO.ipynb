from ultralytics import YOLO
import cv2
import numpy as np
import matplotlib.pyplot as plt

# Load the lightest YOLO model (YOLOv8 Nano)
model = YOLO("yolov8n.pt")  # Pretrained on COCO dataset



# Load an image
image_path = "./te"  # Replace with your image path
image = cv2.imread(image_path)
image_rgb = cv2.cvtColor(image, cv2.COLOR_BGR2RGB)

# Perform object detection
results = model(image)

# Display the detected objects
for result in results:
    boxes = result.boxes.xyxy  # Bounding boxes (x_min, y_min, x_max, y_max)
    confidences = result.boxes.conf  # Confidence scores
    class_ids = result.boxes.cls  # Class IDs

    for i, box in enumerate(boxes):
        x1, y1, x2, y2 = map(int, box)
        label = f"{model.names[int(class_ids[i])]}: {confidences[i]:.2f}"

        # Draw bounding box
        cv2.rectangle(image, (x1, y1), (x2, y2), (0, 255, 0), 2)
        cv2.putText(image, label, (x1, y1 - 10), cv2.FONT_HERSHEY_SIMPLEX, 0.5, (200, 0, 0), 2)

# Convert BGR to RGB and show image
plt.imshow(cv2.cvtColor(image, cv2.COLOR_BGR2RGB))
plt.axis("off")
plt.show()

